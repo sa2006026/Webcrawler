{
 "cells": [
  {
   "attachments": {},
   "cell_type": "markdown",
   "metadata": {},
   "source": [
    "**Environment Setup**"
   ]
  },
  {
   "cell_type": "code",
   "execution_count": 1,
   "metadata": {},
   "outputs": [
    {
     "name": "stderr",
     "output_type": "stream",
     "text": [
      "\n",
      "Usage:   \n",
      "  pip <command> [options]\n",
      "\n",
      "no such option: -r\n"
     ]
    },
    {
     "name": "stdout",
     "output_type": "stream",
     "text": [
      "Collecting package metadata (current_repodata.json): ...working... done\n",
      "Solving environment: ...working... done\n",
      "\n",
      "# All requested packages already installed.\n",
      "\n"
     ]
    },
    {
     "name": "stderr",
     "output_type": "stream",
     "text": [
      "'wget' is not recognized as an internal or external command,\n",
      "operable program or batch file.\n"
     ]
    }
   ],
   "source": [
    "# Install dependenies\n",
    "!pip -r ./InvestHK/requirements.txt\n",
    "\n",
    "# You also need to install pytorch with GPU support to accelerate Deep learning, \n",
    "# See https://pytorch.org/get-started/locally/\n",
    "# Example:\n",
    "\n",
    "!conda install pytorch torchvision torchaudio pytorch-cuda=11.6 -c pytorch -c nvidia\n",
    "\n",
    "# To use crawler, you need to install Chrome browser & Corresponding Chrome Webdriver\n",
    "# See https://chromedriver.chromium.org/downloads\n",
    "# Example: \n",
    "\n",
    "!wget https://chromedriver.storage.googleapis.com/108.0.5359.71/chromedriver_linux64.zip\n",
    "\n"
   ]
  },
  {
   "cell_type": "code",
   "execution_count": 5,
   "metadata": {},
   "outputs": [
    {
     "ename": "ModuleNotFoundError",
     "evalue": "No module named 'torch'",
     "output_type": "error",
     "traceback": [
      "\u001b[1;31m---------------------------------------------------------------------------\u001b[0m",
      "\u001b[1;31mModuleNotFoundError\u001b[0m                       Traceback (most recent call last)",
      "Cell \u001b[1;32mIn[5], line 3\u001b[0m\n\u001b[0;32m      1\u001b[0m \u001b[39m# Unzip the .zip file and set the executable path to config\u001b[39;00m\n\u001b[0;32m      2\u001b[0m \u001b[39m# Example\u001b[39;00m\n\u001b[1;32m----> 3\u001b[0m \u001b[39mimport\u001b[39;00m \u001b[39mInvestHK\u001b[39;00m\n\u001b[0;32m      5\u001b[0m InvestHK\u001b[39m.\u001b[39mCFG\u001b[39m.\u001b[39mCHROME_DRIVER_PATH \u001b[39m=\u001b[39m \u001b[39m'\u001b[39m\u001b[39mD:\u001b[39m\u001b[39m\\\u001b[39m\u001b[39mchromedriver.exe\u001b[39m\u001b[39m'\u001b[39m\n\u001b[0;32m      7\u001b[0m \u001b[39m# Set the log file path\u001b[39;00m\n",
      "File \u001b[1;32md:\\User\\桌面\\Coding\\InvestHK-1\\InvestHK\\__init__.py:1\u001b[0m\n\u001b[1;32m----> 1\u001b[0m \u001b[39mfrom\u001b[39;00m \u001b[39m.\u001b[39;00m\u001b[39mmodel_interface\u001b[39;00m \u001b[39mimport\u001b[39;00m (\n\u001b[0;32m      2\u001b[0m     train_new_model,\n\u001b[0;32m      3\u001b[0m     predict_score,\n\u001b[0;32m      4\u001b[0m     get_sentiments,\n\u001b[0;32m      5\u001b[0m     get_entities,\n\u001b[0;32m      6\u001b[0m     translate_en_to_zh,\n\u001b[0;32m      7\u001b[0m     translate_hk_to_en,\n\u001b[0;32m      8\u001b[0m     translate_hk_to_zh,\n\u001b[0;32m      9\u001b[0m )\n\u001b[0;32m     10\u001b[0m \u001b[39mfrom\u001b[39;00m \u001b[39m.\u001b[39;00m\u001b[39mcrawler_interface\u001b[39;00m \u001b[39mimport\u001b[39;00m (\n\u001b[0;32m     11\u001b[0m     setup_webdriver,\n\u001b[0;32m     12\u001b[0m     fetch_url,\n\u001b[0;32m     13\u001b[0m     analyze_html\n\u001b[0;32m     14\u001b[0m )\n\u001b[0;32m     15\u001b[0m \u001b[39mfrom\u001b[39;00m \u001b[39m.\u001b[39;00m\u001b[39mconfig\u001b[39;00m \u001b[39mimport\u001b[39;00m CFG\n",
      "File \u001b[1;32md:\\User\\桌面\\Coding\\InvestHK-1\\InvestHK\\model_interface.py:2\u001b[0m\n\u001b[0;32m      1\u001b[0m \u001b[39m# from .IVHKCrawler import *\u001b[39;00m\n\u001b[1;32m----> 2\u001b[0m \u001b[39mfrom\u001b[39;00m \u001b[39m.\u001b[39;00m\u001b[39mIVHKModel\u001b[39;00m \u001b[39mimport\u001b[39;00m \u001b[39m*\u001b[39m\n\u001b[0;32m      3\u001b[0m \u001b[39mfrom\u001b[39;00m \u001b[39m.\u001b[39;00m\u001b[39mconfig\u001b[39;00m \u001b[39mimport\u001b[39;00m CFG\n\u001b[0;32m      4\u001b[0m \u001b[39mfrom\u001b[39;00m \u001b[39mpathlib\u001b[39;00m \u001b[39mimport\u001b[39;00m Path\n",
      "File \u001b[1;32md:\\User\\桌面\\Coding\\InvestHK-1\\InvestHK\\IVHKModel\\__init__.py:1\u001b[0m\n\u001b[1;32m----> 1\u001b[0m \u001b[39mfrom\u001b[39;00m \u001b[39m.\u001b[39;00m\u001b[39mutils\u001b[39;00m \u001b[39mimport\u001b[39;00m \u001b[39m*\u001b[39m\n",
      "File \u001b[1;32md:\\User\\桌面\\Coding\\InvestHK-1\\InvestHK\\IVHKModel\\utils.py:7\u001b[0m\n\u001b[0;32m      4\u001b[0m \u001b[39mfrom\u001b[39;00m \u001b[39mitertools\u001b[39;00m \u001b[39mimport\u001b[39;00m cycle\n\u001b[0;32m      5\u001b[0m \u001b[39mfrom\u001b[39;00m \u001b[39mpathlib\u001b[39;00m \u001b[39mimport\u001b[39;00m Path\n\u001b[1;32m----> 7\u001b[0m \u001b[39mimport\u001b[39;00m \u001b[39mtorch\u001b[39;00m\n\u001b[0;32m      8\u001b[0m \u001b[39mimport\u001b[39;00m \u001b[39mpandas\u001b[39;00m \u001b[39mas\u001b[39;00m \u001b[39mpd\u001b[39;00m\n\u001b[0;32m      9\u001b[0m \u001b[39mimport\u001b[39;00m \u001b[39mnumpy\u001b[39;00m \u001b[39mas\u001b[39;00m \u001b[39mnp\u001b[39;00m\n",
      "\u001b[1;31mModuleNotFoundError\u001b[0m: No module named 'torch'"
     ]
    }
   ],
   "source": [
    "# Unzip the .zip file and set the executable path to config\n",
    "# Example\n",
    "import InvestHK\n",
    "\n",
    "InvestHK.CFG.CHROME_DRIVER_PATH = 'D:\\chromedriver.exe'\n",
    "\n",
    "# Set the log file path\n",
    "\n",
    "InvestHK.CFG.CRAWLER_LOG_PATH = 'crawler.log'"
   ]
  },
  {
   "attachments": {},
   "cell_type": "markdown",
   "metadata": {},
   "source": [
    "**InvestHK: Crawler - How to use**"
   ]
  },
  {
   "cell_type": "code",
   "execution_count": 4,
   "metadata": {},
   "outputs": [
    {
     "ename": "NameError",
     "evalue": "name 'InvestHK' is not defined",
     "output_type": "error",
     "traceback": [
      "\u001b[1;31m---------------------------------------------------------------------------\u001b[0m",
      "\u001b[1;31mNameError\u001b[0m                                 Traceback (most recent call last)",
      "Cell \u001b[1;32mIn[4], line 2\u001b[0m\n\u001b[0;32m      1\u001b[0m \u001b[39m# Check InvestHK supported websites\u001b[39;00m\n\u001b[1;32m----> 2\u001b[0m InvestHK\u001b[39m.\u001b[39mCFG\u001b[39m.\u001b[39mSUPPORTED_WEBSITES\n",
      "\u001b[1;31mNameError\u001b[0m: name 'InvestHK' is not defined"
     ]
    }
   ],
   "source": [
    "# Check InvestHK supported websites\n",
    "InvestHK.CFG.SUPPORTED_WEBSITES"
   ]
  },
  {
   "cell_type": "code",
   "execution_count": 3,
   "metadata": {},
   "outputs": [
    {
     "ename": "NameError",
     "evalue": "name 'InvestHK' is not defined",
     "output_type": "error",
     "traceback": [
      "\u001b[1;31m---------------------------------------------------------------------------\u001b[0m",
      "\u001b[1;31mNameError\u001b[0m                                 Traceback (most recent call last)",
      "Cell \u001b[1;32mIn[3], line 3\u001b[0m\n\u001b[0;32m      1\u001b[0m \u001b[39m# 1. Set up a webdriver instance\u001b[39;00m\n\u001b[1;32m----> 3\u001b[0m driver \u001b[39m=\u001b[39m InvestHK\u001b[39m.\u001b[39msetup_webdriver(headless\u001b[39m=\u001b[39m\u001b[39mFalse\u001b[39;00m, pictures\u001b[39m=\u001b[39m\u001b[39mTrue\u001b[39;00m, scripts\u001b[39m=\u001b[39m\u001b[39mTrue\u001b[39;00m)\n\u001b[0;32m      5\u001b[0m \u001b[39m# You will see a browser window pop up\u001b[39;00m\n",
      "\u001b[1;31mNameError\u001b[0m: name 'InvestHK' is not defined"
     ]
    }
   ],
   "source": [
    "# 1. Set up a webdriver instance\n",
    "\n",
    "driver = InvestHK.setup_webdriver(headless=False, pictures=True, scripts=True)\n",
    "\n",
    "# You will see a browser window pop up"
   ]
  },
  {
   "cell_type": "code",
   "execution_count": null,
   "metadata": {},
   "outputs": [],
   "source": [
    "# 2. Fetch URL from news website\n",
    "\n",
    "from datetime import datetime, timedelta\n",
    "\n",
    "# From yesterday to today (Include both)\n",
    "to_date = datetime.today()\n",
    "from_date = datetime.today() - timedelta(days=1)\n",
    "\n",
    "fetch_results = InvestHK.fetch_url(\n",
    "                                   driver, \n",
    "                                   website='bloomberg',\n",
    "                                   query='Hong Kong',\n",
    "                                   from_date=from_date,\n",
    "                                   to_date=to_date\n",
    "                                   )\n",
    "fetch_results"
   ]
  },
  {
   "cell_type": "code",
   "execution_count": null,
   "metadata": {},
   "outputs": [],
   "source": [
    "# 3.Take one result and use analyze_html to extract titles & contents\n",
    "\n",
    "import requests\n",
    "result = fetch_results[0]\n",
    "url = result['url']\n",
    "\n",
    "driver.get(url)"
   ]
  },
  {
   "cell_type": "code",
   "execution_count": null,
   "metadata": {},
   "outputs": [],
   "source": [
    "InvestHK.analyze_html(driver.page_source, website='bloomberg')"
   ]
  },
  {
   "cell_type": "code",
   "execution_count": null,
   "metadata": {},
   "outputs": [],
   "source": [
    "# 4.Train a model to predict investment leads score\n",
    "\n",
    "bads = '''Freshfields & Mercer on Hong Kong Board Diversity\n",
    "United Airlines Plans to Resume Hong Kong Flights From January\n",
    "GDS Is Said to Explore Singapore Listing After Hong Kong, US\n",
    "China to Start Swap Connect With Hong Kong in Six Months\n",
    "Why a Primary Listing in Hong Kong Matters for Alibaba, BiliBili\n",
    "Colliers Rosanna Tang on HK Property Market\n",
    "Cryptocurrencies are gaining ground in Asia, says Hong Kong-based crypto platform CoinUnited.io\n",
    "CNBC Transcript: Franklin Tong Fuk-Kay, Chief Executive Officer, Hong Kong Applied Science and Technology Research Institute\n",
    "Jinmao Investments' Hong Kong trading debut\n",
    "New economy companies are capturing investor attention in Hong Kong'''.split('\\n') \n",
    "\n",
    "goods = '''Fintech Giant Lufax Plans Hong Kong Listing to Hedge US Risk\n",
    "Citadel Adds Office Space for Growing Hong Kong Teams\n",
    "Hedge Fund Firm North Rock Bucks Trend With Hong Kong Office\n",
    "Tencent Music Said to Plan Hong Kong Debut as Soon as Next Week\n",
    "Hong Kong Telco HKBN Said to Draw Interest From Stonepeak, PAG\n",
    "Truphone debuts in Hong Kong\n",
    "RTS Expands Operations in Hong Kong with Platform Equinix\n",
    "Avature Opens New Office in Hong Kong\n",
    "Fortnum & Mason to open first overseas store in Hong Kong\n",
    "Hong Kong and Singapore to work together on blockchain project\n",
    "More consolidation in Asian private banking as OCBC to buy NAB's Singapore and Hong Kong business\n",
    "Tencent-backed fintech start-up looks to Hong Kong to expand\n",
    "This Australian brand is expanding in Hong Kong even though the retail scene is struggling'''.split('\\n') \n",
    "\n",
    "texts = goods + bads\n",
    "labels = [1] * len(goods) + [0] * len(bads)\n",
    "\n",
    "metric = InvestHK.train_new_model('Deberta', texts, labels, './testmodel')"
   ]
  },
  {
   "cell_type": "code",
   "execution_count": null,
   "metadata": {},
   "outputs": [],
   "source": [
    "# 5.Check metrics of trained model\n",
    "metric"
   ]
  },
  {
   "cell_type": "code",
   "execution_count": null,
   "metadata": {},
   "outputs": [],
   "source": [
    "# 6.Load model and predict score\n",
    "\n",
    "fetched_titles = [r['title'] for r in fetch_results]\n",
    "\n",
    "test_titles = '''Apple is going to set new office in Hong Kong\n",
    "This Australian brand is expanding in Hong Kong even though the retail scene is struggling'''.split('\\n')\n",
    "\n",
    "titles = fetched_titles + test_titles\n",
    "print(titles)\n",
    "\n",
    "scores = InvestHK.predict_score('testmodel', titles)"
   ]
  },
  {
   "cell_type": "code",
   "execution_count": null,
   "metadata": {},
   "outputs": [],
   "source": [
    "# 7.See the result\n",
    "for t, s in zip(titles, scores):\n",
    "    print(f'{s} - {t}')"
   ]
  },
  {
   "attachments": {},
   "cell_type": "markdown",
   "metadata": {},
   "source": [
    "**Chinese Model - How to use**"
   ]
  },
  {
   "cell_type": "code",
   "execution_count": 3,
   "metadata": {},
   "outputs": [
    {
     "name": "stdout",
     "output_type": "stream",
     "text": [
      "['我是一个英文文本', '我是另一个英文文本']\n",
      "['我是一个香港繁中文本', '我是另一个香港繁中文本']\n"
     ]
    }
   ],
   "source": [
    "# 8.To train a chinese inference model, use translation API to convert input texts into simplified chinese\n",
    "\n",
    "sample_en = ['I am one English text', 'I am another English text']\n",
    "sample_hk = ['我是一個香港繁中文本', '我是另一個香港繁中文本']\n",
    "\n",
    "print(InvestHK.translate_en_to_zh(sample_en))\n",
    "print(InvestHK.translate_hk_to_zh(sample_hk))"
   ]
  },
  {
   "cell_type": "code",
   "execution_count": null,
   "metadata": {},
   "outputs": [],
   "source": [
    "# 9.Use Model Type 'Chinese' and texts of simplified chinese to train a chinese model.\n",
    "\n",
    "InvestHK.train_new_model(model_type='Chinese', texts=InvestHK.translate_en_to_zh(sample_en), labels=[1,1], save_to_path='test_chinese_model')"
   ]
  }
 ],
 "metadata": {
  "kernelspec": {
   "display_name": "sbert",
   "language": "python",
   "name": "python3"
  },
  "language_info": {
   "codemirror_mode": {
    "name": "ipython",
    "version": 3
   },
   "file_extension": ".py",
   "mimetype": "text/x-python",
   "name": "python",
   "nbconvert_exporter": "python",
   "pygments_lexer": "ipython3",
   "version": "3.11.2"
  },
  "orig_nbformat": 4,
  "vscode": {
   "interpreter": {
    "hash": "a5d0509d4efad44a80b796e9a573e2f935002aca80550cf669a4d88807ded398"
   }
  }
 },
 "nbformat": 4,
 "nbformat_minor": 2
}
