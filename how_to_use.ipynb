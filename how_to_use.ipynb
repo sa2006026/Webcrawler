{
 "cells": [
  {
   "attachments": {},
   "cell_type": "markdown",
   "metadata": {},
   "source": [
    "**Environment Setup**"
   ]
  },
  {
   "cell_type": "code",
   "execution_count": null,
   "metadata": {},
   "outputs": [],
   "source": [
    "# Install dependenies\n",
    "!pip -r ./InvestHK/requirements.txt\n",
    "\n",
    "# You also need to install pytorch with GPU support to accelerate Deep learning, \n",
    "# See https://pytorch.org/get-started/locally/\n",
    "# Example:\n",
    "\n",
    "!conda install pytorch torchvision torchaudio pytorch-cuda=11.6 -c pytorch -c nvidia\n",
    "\n",
    "# To use crawler, you need to install Chrome browser & Corresponding Chrome Webdriver\n",
    "# See https://chromedriver.chromium.org/downloads\n",
    "# Example: \n",
    "\n",
    "!wget https://chromedriver.storage.googleapis.com/108.0.5359.71/chromedriver_linux64.zip\n",
    "\n"
   ]
  },
  {
   "cell_type": "code",
   "execution_count": 1,
   "metadata": {},
   "outputs": [
    {
     "name": "stderr",
     "output_type": "stream",
     "text": [
      "d:\\Program Files\\Anaconda\\envs\\investhk\\lib\\site-packages\\tqdm\\auto.py:22: TqdmWarning: IProgress not found. Please update jupyter and ipywidgets. See https://ipywidgets.readthedocs.io/en/stable/user_install.html\n",
      "  from .autonotebook import tqdm as notebook_tqdm\n"
     ]
    }
   ],
   "source": [
    "# Unzip the .zip file and set the executable path to config\n",
    "# Example\n",
    "import InvestHK\n",
    "\n",
    "InvestHK.CFG.CHROME_DRIVER_PATH = r'D:/User/下載/chromedriver.exe'\n",
    "\n",
    "# Set the log file path\n",
    "\n",
    "InvestHK.CFG.CRAWLER_LOG_PATH = 'crawler.log'"
   ]
  },
  {
   "attachments": {},
   "cell_type": "markdown",
   "metadata": {},
   "source": [
    "**InvestHK: Crawler - How to use**"
   ]
  },
  {
   "cell_type": "code",
   "execution_count": null,
   "metadata": {},
   "outputs": [],
   "source": []
  },
  {
   "cell_type": "code",
   "execution_count": 2,
   "metadata": {},
   "outputs": [
    {
     "data": {
      "text/plain": [
       "['bloomberg',\n",
       " 'cnbc',\n",
       " 'financialtimes',\n",
       " 'xinhuanet',\n",
       " 'reuters',\n",
       " 'xinhuanet_chinese',\n",
       " 'renminribao',\n",
       " 'chinadaily',\n",
       " 'GBAChinese',\n",
       " 'GBAEnglish',\n",
       " 'SouthCN',\n",
       " 'AVCJ',\n",
       " 'YiCai',\n",
       " 'jiemian']"
      ]
     },
     "execution_count": 2,
     "metadata": {},
     "output_type": "execute_result"
    }
   ],
   "source": [
    "# Check InvestHK supported websites\n",
    "InvestHK.CFG.SUPPORTED_WEBSITES"
   ]
  },
  {
   "cell_type": "code",
   "execution_count": 3,
   "metadata": {},
   "outputs": [],
   "source": [
    "# 1. Set up a webdriver instance\n",
    "\n",
    "driver = InvestHK.setup_webdriver(headless=False, pictures=True, scripts=True)\n",
    "\n",
    "# You will see a browser window pop up"
   ]
  },
  {
   "cell_type": "code",
   "execution_count": 4,
   "metadata": {},
   "outputs": [
    {
     "data": {
      "text/plain": [
       "[{'title': '天下一家｜坚持人与自然和谐共生',\n",
       "  'url': 'https://www.southcn.com/node_b5769d65fb/c5b528dc00.shtml',\n",
       "  'datetime': datetime.datetime(2023, 3, 29, 14, 28)},\n",
       " {'title': '“习近平高质量发展新论断”｜推进农业现代化',\n",
       "  'url': 'https://www.southcn.com/node_b5769d65fb/725802359e.shtml',\n",
       "  'datetime': datetime.datetime(2023, 3, 29, 11, 42)},\n",
       " {'title': '中国特色社会主义是实现中华民族伟大复兴的必由之路',\n",
       "  'url': 'https://www.southcn.com/node_b5769d65fb/1663504de7.shtml',\n",
       "  'datetime': datetime.datetime(2023, 3, 29, 9, 28)},\n",
       " {'title': '写在博鳌亚洲论坛2023年年会召开之际：携手同行创未来',\n",
       "  'url': 'https://news.southcn.com/node_179d29f1ce/0292d56f27.shtml',\n",
       "  'datetime': datetime.datetime(2023, 3, 29, 7, 54)},\n",
       " {'title': '解读2023年中央预算公开：钱花得更明白、更有效',\n",
       "  'url': 'https://news.southcn.com/node_179d29f1ce/3daad05967.shtml',\n",
       "  'datetime': datetime.datetime(2023, 3, 29, 7, 46)},\n",
       " {'title': '我国完成首单液化天然气跨境人民币结算交易',\n",
       "  'url': 'https://news.southcn.com/node_179d29f1ce/cd5b54380c.shtml',\n",
       "  'datetime': datetime.datetime(2023, 3, 29, 14, 23)},\n",
       " {'title': '我国绿色制造体系已基本构建 打造新型工业化坚实基础',\n",
       "  'url': 'https://news.southcn.com/node_179d29f1ce/0fc3fecb1f.shtml',\n",
       "  'datetime': datetime.datetime(2023, 3, 29, 7, 53)},\n",
       " {'title': '国家统一将给台湾带来哪些好处？国台办回应',\n",
       "  'url': 'https://news.southcn.com/node_179d29f1ce/e26bd011b7.shtml',\n",
       "  'datetime': datetime.datetime(2023, 3, 29, 11, 4)},\n",
       " {'title': '重磅发布！美国实施任意拘押恶行累累',\n",
       "  'url': 'https://news.southcn.com/node_742c1a40f1/92c886d656.shtml',\n",
       "  'datetime': datetime.datetime(2023, 3, 29, 11, 43)},\n",
       " {'title': '千年一遇！我国卫星精确探测迄今最亮伽马射线暴',\n",
       "  'url': 'https://news.southcn.com/node_179d29f1ce/de7a4d14c5.shtml',\n",
       "  'datetime': datetime.datetime(2023, 3, 29, 7, 49)},\n",
       " {'title': '公安部印发《加强新时代公安派出所工作三年行动计划》',\n",
       "  'url': 'https://news.southcn.com/node_179d29f1ce/e19646d972.shtml',\n",
       "  'datetime': datetime.datetime(2023, 3, 29, 7, 41)},\n",
       " {'title': '第八批国采开标：共涉40个大品种 肝素类药物首次纳入',\n",
       "  'url': 'https://news.southcn.com/node_179d29f1ce/9407d411aa.shtml',\n",
       "  'datetime': datetime.datetime(2023, 3, 29, 7, 55)},\n",
       " {'title': '习语品读 |“给成长快的孩子换上一件大衣服”',\n",
       "  'url': 'https://www.southcn.com/node_b5769d65fb/269e4ba013.shtml',\n",
       "  'datetime': datetime.datetime(2023, 3, 29, 8, 27)},\n",
       " {'title': '学习100丨高质量共建“一带一路”',\n",
       "  'url': 'https://www.southcn.com/node_b5769d65fb/b4b139f389.shtml',\n",
       "  'datetime': datetime.datetime(2023, 3, 29, 11, 42)},\n",
       " {'title': '西藏百万农奴解放64周年：携手共迎新时代春风',\n",
       "  'url': 'https://news.southcn.com/node_179d29f1ce/323f0de156.shtml',\n",
       "  'datetime': datetime.datetime(2023, 3, 29, 7, 40)}]"
      ]
     },
     "execution_count": 4,
     "metadata": {},
     "output_type": "execute_result"
    }
   ],
   "source": [
    "# 2. Fetch URL from news website\n",
    "\n",
    "from datetime import datetime, timedelta\n",
    "\n",
    "# From yesterday to today (Include both)\n",
    "to_date = datetime.today()\n",
    "from_date = datetime.today() - timedelta(days=1)\n",
    "fetch_results = InvestHK.fetch_url(\n",
    "                                   driver, \n",
    "                                   website='SouthCN',\n",
    "                                   query='',\n",
    "                                   from_date=from_date,\n",
    "                                   to_date=to_date\n",
    "                                   )\n",
    "fetch_results"
   ]
  },
  {
   "cell_type": "code",
   "execution_count": 5,
   "metadata": {},
   "outputs": [],
   "source": [
    "# 3.Take one result and use analyze_html to extract titles & contents\n",
    "\n",
    "import requests\n",
    "result = fetch_results[0]\n",
    "url = result['url']\n",
    "\n",
    "driver.get(url)"
   ]
  },
  {
   "cell_type": "code",
   "execution_count": 7,
   "metadata": {},
   "outputs": [
    {
     "data": {
      "text/plain": [
       "(['天下一家｜坚持人与自然和谐共生'],\n",
       " '“中华民族历来讲求‘天下一家’，主张民胞物与、协和万邦、天下大同，憧憬‘大道之行，天下为公’的美好世界。”千百年来，“世界大同、天下一家”始终是中华民族的理想追求。习近平主席汲取中华优秀传统文化思想精华，多次提及“天下一家”观点，为世界人民求和平、谋发展贡献中国智慧、中国方案。央视网《联播+》推出《天下一家》系列报道，与您一同感受习近平主席胸怀天下的情怀与担当。\\n人与自然的关系是一种天人合一、互利共赢的共同体关系，这正是习近平生态文明思想的重要内涵。\\n近年来，习近平主席在不同场合多次呼吁构建人与自然和谐共生的地球家园。他说：“这是对我们自己负责，也是对世界负责。”')"
      ]
     },
     "execution_count": 7,
     "metadata": {},
     "output_type": "execute_result"
    }
   ],
   "source": [
    "InvestHK.analyze_html(driver.page_source, website='SouthCN')"
   ]
  },
  {
   "cell_type": "code",
   "execution_count": null,
   "metadata": {},
   "outputs": [],
   "source": [
    "# 4.Train a model to predict investment leads score\n",
    "\n",
    "bads = '''Freshfields & Mercer on Hong Kong Board Diversity\n",
    "United Airlines Plans to Resume Hong Kong Flights From January\n",
    "GDS Is Said to Explore Singapore Listing After Hong Kong, US\n",
    "China to Start Swap Connect With Hong Kong in Six Months\n",
    "Why a Primary Listing in Hong Kong Matters for Alibaba, BiliBili\n",
    "Colliers Rosanna Tang on HK Property Market\n",
    "Cryptocurrencies are gaining ground in Asia, says Hong Kong-based crypto platform CoinUnited.io\n",
    "CNBC Transcript: Franklin Tong Fuk-Kay, Chief Executive Officer, Hong Kong Applied Science and Technology Research Institute\n",
    "Jinmao Investments' Hong Kong trading debut\n",
    "New economy companies are capturing investor attention in Hong Kong'''.split('\\n') \n",
    "\n",
    "goods = '''Fintech Giant Lufax Plans Hong Kong Listing to Hedge US Risk\n",
    "Citadel Adds Office Space for Growing Hong Kong Teams\n",
    "Hedge Fund Firm North Rock Bucks Trend With Hong Kong Office\n",
    "Tencent Music Said to Plan Hong Kong Debut as Soon as Next Week\n",
    "Hong Kong Telco HKBN Said to Draw Interest From Stonepeak, PAG\n",
    "Truphone debuts in Hong Kong\n",
    "RTS Expands Operations in Hong Kong with Platform Equinix\n",
    "Avature Opens New Office in Hong Kong\n",
    "Fortnum & Mason to open first overseas store in Hong Kong\n",
    "Hong Kong and Singapore to work together on blockchain project\n",
    "More consolidation in Asian private banking as OCBC to buy NAB's Singapore and Hong Kong business\n",
    "Tencent-backed fintech start-up looks to Hong Kong to expand\n",
    "This Australian brand is expanding in Hong Kong even though the retail scene is struggling'''.split('\\n') \n",
    "\n",
    "texts = goods + bads\n",
    "labels = [1] * len(goods) + [0] * len(bads)\n",
    "\n",
    "metric = InvestHK.train_new_model('Deberta', texts, labels, './testmodel')"
   ]
  },
  {
   "cell_type": "code",
   "execution_count": null,
   "metadata": {},
   "outputs": [],
   "source": [
    "# 5.Check metrics of trained model\n",
    "metric"
   ]
  },
  {
   "cell_type": "code",
   "execution_count": null,
   "metadata": {},
   "outputs": [],
   "source": [
    "# 6.Load model and predict score\n",
    "\n",
    "fetched_titles = [r['title'] for r in fetch_results]\n",
    "\n",
    "test_titles = '''Apple is going to set new office in Hong Kong\n",
    "This Australian brand is expanding in Hong Kong even though the retail scene is struggling'''.split('\\n')\n",
    "\n",
    "titles = fetched_titles + test_titles\n",
    "print(titles)\n",
    "\n",
    "scores = InvestHK.predict_score('testmodel', titles)"
   ]
  },
  {
   "cell_type": "code",
   "execution_count": null,
   "metadata": {},
   "outputs": [],
   "source": [
    "# 7.See the result\n",
    "for t, s in zip(titles, scores):\n",
    "    print(f'{s} - {t}')"
   ]
  },
  {
   "attachments": {},
   "cell_type": "markdown",
   "metadata": {},
   "source": [
    "**Chinese Model - How to use**"
   ]
  },
  {
   "cell_type": "code",
   "execution_count": null,
   "metadata": {},
   "outputs": [],
   "source": [
    "# 8.To train a chinese inference model, use translation API to convert input texts into simplified chinese\n",
    "\n",
    "sample_en = ['I am one English text', 'I am another English text']\n",
    "sample_hk = ['我是一個香港繁中文本', '我是另一個香港繁中文本']\n",
    "\n",
    "print(InvestHK.translate_en_to_zh(sample_en))\n",
    "print(InvestHK.translate_hk_to_zh(sample_hk))"
   ]
  },
  {
   "cell_type": "code",
   "execution_count": null,
   "metadata": {},
   "outputs": [],
   "source": [
    "# 9.Use Model Type 'Chinese' and texts of simplified chinese to train a chinese model.\n",
    "\n",
    "InvestHK.train_new_model(model_type='Chinese', texts=InvestHK.translate_en_to_zh(sample_en), labels=[1,1], save_to_path='test_chinese_model')"
   ]
  }
 ],
 "metadata": {
  "kernelspec": {
   "display_name": "investhk",
   "language": "python",
   "name": "investhk"
  },
  "language_info": {
   "codemirror_mode": {
    "name": "ipython",
    "version": 3
   },
   "file_extension": ".py",
   "mimetype": "text/x-python",
   "name": "python",
   "nbconvert_exporter": "python",
   "pygments_lexer": "ipython3",
   "version": "3.10.0"
  },
  "orig_nbformat": 4
 },
 "nbformat": 4,
 "nbformat_minor": 2
}
