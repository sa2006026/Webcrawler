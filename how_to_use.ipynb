{
 "cells": [
  {
   "attachments": {},
   "cell_type": "markdown",
   "metadata": {},
   "source": [
    "**Environment Setup**"
   ]
  },
  {
   "cell_type": "code",
   "execution_count": null,
   "metadata": {},
   "outputs": [],
   "source": [
    "# Install dependenies\n",
    "!pip -r ./InvestHK/requirements.txt\n",
    "\n",
    "# You also need to install pytorch with GPU support to accelerate Deep learning, \n",
    "# See https://pytorch.org/get-started/locally/\n",
    "# Example:\n",
    "\n",
    "!conda install pytorch torchvision torchaudio pytorch-cuda=11.6 -c pytorch -c nvidia\n",
    "\n",
    "# To use crawler, you need to install Chrome browser & Corresponding Chrome Webdriver\n",
    "# See https://chromedriver.chromium.org/downloads\n",
    "# Example: \n",
    "\n",
    "!wget https://chromedriver.storage.googleapis.com/108.0.5359.71/chromedriver_linux64.zip\n",
    "\n"
   ]
  },
  {
   "cell_type": "code",
   "execution_count": null,
   "metadata": {},
   "outputs": [],
   "source": [
    "# Unzip the .zip file and set the executable path to config\n",
    "# Example\n",
    "import InvestHK\n",
    "\n",
    "InvestHK.CFG.CHROME_DRIVER_PATH = 'L:\\\\ChromeDriver\\\\108-0-5359-71\\\\chromedriver.exe'\n",
    "\n",
    "# Set the log file path\n",
    "\n",
    "InvestHK.CFG.CRAWLER_LOG_PATH = 'crawler.log'"
   ]
  },
  {
   "attachments": {},
   "cell_type": "markdown",
   "metadata": {},
   "source": [
    "**InvestHK: Crawler - How to use**"
   ]
  },
  {
   "cell_type": "code",
   "execution_count": null,
   "metadata": {},
   "outputs": [],
   "source": [
    "# Check InvestHK supported websites\n",
    "InvestHK.CFG.SUPPORTED_WEBSITES"
   ]
  },
  {
   "cell_type": "code",
   "execution_count": null,
   "metadata": {},
   "outputs": [],
   "source": [
    "# 1. Set up a webdriver instance\n",
    "\n",
    "driver = InvestHK.setup_webdriver(headless=False, pictures=True, scripts=True)\n",
    "\n",
    "# You will see a browser window pop up"
   ]
  },
  {
   "cell_type": "code",
   "execution_count": null,
   "metadata": {},
   "outputs": [],
   "source": [
    "# 2. Fetch URL from news website\n",
    "\n",
    "from datetime import datetime, timedelta\n",
    "\n",
    "# From yesterday to today (Include both)\n",
    "to_date = datetime.today()\n",
    "from_date = datetime.today() - timedelta(days=1)\n",
    "\n",
    "fetch_results = InvestHK.fetch_url(\n",
    "                                   driver, \n",
    "                                   website='bloomberg',\n",
    "                                   query='Hong Kong',\n",
    "                                   from_date=from_date,\n",
    "                                   to_date=to_date\n",
    "                                   )\n",
    "fetch_results"
   ]
  },
  {
   "cell_type": "code",
   "execution_count": null,
   "metadata": {},
   "outputs": [],
   "source": [
    "# 3.Take one result and use analyze_html to extract titles & contents\n",
    "\n",
    "import requests\n",
    "result = fetch_results[0]\n",
    "url = result['url']\n",
    "\n",
    "driver.get(url)"
   ]
  },
  {
   "cell_type": "code",
   "execution_count": null,
   "metadata": {},
   "outputs": [],
   "source": [
    "InvestHK.analyze_html(driver.page_source, website='bloomberg')"
   ]
  },
  {
   "cell_type": "code",
   "execution_count": null,
   "metadata": {},
   "outputs": [],
   "source": [
    "# 4.Train a model to predict investment leads score\n",
    "\n",
    "bads = '''Freshfields & Mercer on Hong Kong Board Diversity\n",
    "United Airlines Plans to Resume Hong Kong Flights From January\n",
    "GDS Is Said to Explore Singapore Listing After Hong Kong, US\n",
    "China to Start Swap Connect With Hong Kong in Six Months\n",
    "Why a Primary Listing in Hong Kong Matters for Alibaba, BiliBili\n",
    "Colliers Rosanna Tang on HK Property Market\n",
    "Cryptocurrencies are gaining ground in Asia, says Hong Kong-based crypto platform CoinUnited.io\n",
    "CNBC Transcript: Franklin Tong Fuk-Kay, Chief Executive Officer, Hong Kong Applied Science and Technology Research Institute\n",
    "Jinmao Investments' Hong Kong trading debut\n",
    "New economy companies are capturing investor attention in Hong Kong'''.split('\\n') \n",
    "\n",
    "goods = '''Fintech Giant Lufax Plans Hong Kong Listing to Hedge US Risk\n",
    "Citadel Adds Office Space for Growing Hong Kong Teams\n",
    "Hedge Fund Firm North Rock Bucks Trend With Hong Kong Office\n",
    "Tencent Music Said to Plan Hong Kong Debut as Soon as Next Week\n",
    "Hong Kong Telco HKBN Said to Draw Interest From Stonepeak, PAG\n",
    "Truphone debuts in Hong Kong\n",
    "RTS Expands Operations in Hong Kong with Platform Equinix\n",
    "Avature Opens New Office in Hong Kong\n",
    "Fortnum & Mason to open first overseas store in Hong Kong\n",
    "Hong Kong and Singapore to work together on blockchain project\n",
    "More consolidation in Asian private banking as OCBC to buy NAB's Singapore and Hong Kong business\n",
    "Tencent-backed fintech start-up looks to Hong Kong to expand\n",
    "This Australian brand is expanding in Hong Kong even though the retail scene is struggling'''.split('\\n') \n",
    "\n",
    "texts = goods + bads\n",
    "labels = [1] * len(goods) + [0] * len(bads)\n",
    "\n",
    "metric = InvestHK.train_new_model('Deberta', texts, labels, './testmodel')"
   ]
  },
  {
   "cell_type": "code",
   "execution_count": null,
   "metadata": {},
   "outputs": [],
   "source": [
    "# 5.Check metrics of trained model\n",
    "metric"
   ]
  },
  {
   "cell_type": "code",
   "execution_count": null,
   "metadata": {},
   "outputs": [],
   "source": [
    "# 6.Load model and predict score\n",
    "\n",
    "fetched_titles = [r['title'] for r in fetch_results]\n",
    "\n",
    "test_titles = '''Apple is going to set new office in Hong Kong\n",
    "This Australian brand is expanding in Hong Kong even though the retail scene is struggling'''.split('\\n')\n",
    "\n",
    "titles = fetched_titles + test_titles\n",
    "print(titles)\n",
    "\n",
    "scores = InvestHK.predict_score('testmodel', titles)"
   ]
  },
  {
   "cell_type": "code",
   "execution_count": null,
   "metadata": {},
   "outputs": [],
   "source": [
    "# 7.See the result\n",
    "for t, s in zip(titles, scores):\n",
    "    print(f'{s} - {t}')"
   ]
  }
 ],
 "metadata": {
  "kernelspec": {
   "display_name": "sbert",
   "language": "python",
   "name": "python3"
  },
  "language_info": {
   "codemirror_mode": {
    "name": "ipython",
    "version": 3
   },
   "file_extension": ".py",
   "mimetype": "text/x-python",
   "name": "python",
   "nbconvert_exporter": "python",
   "pygments_lexer": "ipython3",
   "version": "3.10.4 | packaged by conda-forge | (main, Mar 30 2022, 08:38:02) [MSC v.1916 64 bit (AMD64)]"
  },
  "orig_nbformat": 4,
  "vscode": {
   "interpreter": {
    "hash": "a5d0509d4efad44a80b796e9a573e2f935002aca80550cf669a4d88807ded398"
   }
  }
 },
 "nbformat": 4,
 "nbformat_minor": 2
}
